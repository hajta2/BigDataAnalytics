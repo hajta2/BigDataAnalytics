{
 "cells": [
  {
   "cell_type": "code",
   "execution_count": 26,
   "metadata": {},
   "outputs": [],
   "source": [
    "from pyspark import SparkContext, SparkConf\n",
    "import time\n"
   ]
  },
  {
   "cell_type": "code",
   "execution_count": 27,
   "metadata": {},
   "outputs": [],
   "source": [
    "sc = SparkContext.getOrCreate(SparkConf().setMaster(\"local[*]\"))\n"
   ]
  },
  {
   "cell_type": "code",
   "execution_count": 28,
   "metadata": {},
   "outputs": [],
   "source": [
    "populations = sc.textFile(\"data/statesPopulation.csv\")\n",
    "populations = (\n",
    "    populations.filter(lambda line: \"State\" not in line)\n",
    "    .map(lambda line: line.split(\",\"))\n",
    "    .map(lambda line: (line[0], int(line[2])))\n",
    ")\n"
   ]
  },
  {
   "cell_type": "code",
   "execution_count": 29,
   "metadata": {},
   "outputs": [
    {
     "name": "stdout",
     "output_type": "stream",
     "text": [
      "Execution time: 28.453826904296875 ms\n"
     ]
    }
   ],
   "source": [
    "start = time.time()\n",
    "collected_reduce = populations.reduceByKey(lambda x, y: x + y) # type: ignore\n",
    "stop = time.time()\n",
    "print(f'Execution time: {(stop - start) * 1000} ms')"
   ]
  },
  {
   "cell_type": "code",
   "execution_count": 30,
   "metadata": {},
   "outputs": [
    {
     "data": {
      "text/plain": [
       "[('Arizona', 46518355),\n",
       " ('Arkansas', 20703849),\n",
       " ('Colorado', 36963486),\n",
       " ('Delaware', 6481217),\n",
       " ('Florida', 137618322)]"
      ]
     },
     "execution_count": 30,
     "metadata": {},
     "output_type": "execute_result"
    }
   ],
   "source": [
    "collected_reduce.take(5)"
   ]
  },
  {
   "cell_type": "code",
   "execution_count": 31,
   "metadata": {},
   "outputs": [
    {
     "name": "stdout",
     "output_type": "stream",
     "text": [
      "Execution time: 25.278806686401367 ms\n"
     ]
    }
   ],
   "source": [
    "start = time.time()\n",
    "collected_groupby = populations.groupByKey().mapValues(sum) # type: ignore\n",
    "stop = time.time()\n",
    "print(f'Execution time: {(stop - start) * 1000} ms')"
   ]
  },
  {
   "cell_type": "code",
   "execution_count": 32,
   "metadata": {},
   "outputs": [
    {
     "data": {
      "text/plain": [
       "[('Arizona', 46518355),\n",
       " ('Arkansas', 20703849),\n",
       " ('Colorado', 36963486),\n",
       " ('Delaware', 6481217),\n",
       " ('Florida', 137618322)]"
      ]
     },
     "execution_count": 32,
     "metadata": {},
     "output_type": "execute_result"
    }
   ],
   "source": [
    "collected_groupby.take(5)"
   ]
  },
  {
   "cell_type": "code",
   "execution_count": 33,
   "metadata": {},
   "outputs": [
    {
     "name": "stdout",
     "output_type": "stream",
     "text": [
      "Execution time: 20.406484603881836 ms\n"
     ]
    }
   ],
   "source": [
    "start = time.time()\n",
    "collected_agg = populations.aggregateByKey(0, lambda x, y: x + y, lambda x, y: x + y) # type: ignore\n",
    "stop = time.time()\n",
    "print(f'Execution time: {(stop - start) * 1000} ms')"
   ]
  },
  {
   "cell_type": "code",
   "execution_count": 34,
   "metadata": {},
   "outputs": [
    {
     "data": {
      "text/plain": [
       "[('Arizona', 46518355),\n",
       " ('Arkansas', 20703849),\n",
       " ('Colorado', 36963486),\n",
       " ('Delaware', 6481217),\n",
       " ('Florida', 137618322)]"
      ]
     },
     "execution_count": 34,
     "metadata": {},
     "output_type": "execute_result"
    }
   ],
   "source": [
    "collected_agg.take(5)"
   ]
  }
 ],
 "metadata": {
  "kernelspec": {
   "display_name": "Python 3",
   "language": "python",
   "name": "python3"
  },
  "language_info": {
   "codemirror_mode": {
    "name": "ipython",
    "version": 3
   },
   "file_extension": ".py",
   "mimetype": "text/x-python",
   "name": "python",
   "nbconvert_exporter": "python",
   "pygments_lexer": "ipython3",
   "version": "3.10.6"
  },
  "orig_nbformat": 4
 },
 "nbformat": 4,
 "nbformat_minor": 2
}
