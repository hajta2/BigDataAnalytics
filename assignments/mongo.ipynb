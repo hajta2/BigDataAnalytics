{
 "cells": [
  {
   "cell_type": "code",
   "execution_count": 1,
   "metadata": {},
   "outputs": [],
   "source": [
    "from pyspark.sql import SparkSession\n",
    "from pymongo import MongoClient"
   ]
  },
  {
   "cell_type": "code",
   "execution_count": 2,
   "metadata": {},
   "outputs": [],
   "source": [
    "client = MongoClient('mongo', 27017)"
   ]
  },
  {
   "cell_type": "code",
   "execution_count": 3,
   "metadata": {},
   "outputs": [],
   "source": [
    "db = client.test\n",
    "collection = db.dummy_collection"
   ]
  },
  {
   "cell_type": "code",
   "execution_count": 4,
   "metadata": {},
   "outputs": [
    {
     "name": "stdout",
     "output_type": "stream",
     "text": [
      "Inserted 3 documents\n",
      "{'_id': ObjectId('64304fc00281c471e09ef1eb'), 'name': 'John', 'age': 25}\n",
      "{'_id': ObjectId('64304fc00281c471e09ef1ec'), 'name': 'Jane', 'age': 30}\n",
      "{'_id': ObjectId('64304fc00281c471e09ef1ed'), 'name': 'Bob', 'age': 35}\n",
      "{'_id': ObjectId('64305181ec785abdbd310bdc'), 'name': 'John', 'age': 25}\n",
      "{'_id': ObjectId('64305181ec785abdbd310bdd'), 'name': 'Jane', 'age': 30}\n",
      "{'_id': ObjectId('64305181ec785abdbd310bde'), 'name': 'Bob', 'age': 35}\n",
      "{'_id': ObjectId('64305225a414bceed1525031'), 'name': 'John', 'age': 25}\n",
      "{'_id': ObjectId('64305225a414bceed1525032'), 'name': 'Jane', 'age': 30}\n",
      "{'_id': ObjectId('64305225a414bceed1525033'), 'name': 'Bob', 'age': 35}\n",
      "{'_id': ObjectId('64305efda22c97ad59a8b7b5'), 'name': 'John', 'age': 25}\n",
      "{'_id': ObjectId('64305efda22c97ad59a8b7b6'), 'name': 'Jane', 'age': 30}\n",
      "{'_id': ObjectId('64305efda22c97ad59a8b7b7'), 'name': 'Bob', 'age': 35}\n"
     ]
    }
   ],
   "source": [
    "data = [\n",
    "    {\"name\": \"John\", \"age\": 25},\n",
    "    {\"name\": \"Jane\", \"age\": 30},\n",
    "    {\"name\": \"Bob\", \"age\": 35}\n",
    "]\n",
    "\n",
    "result = collection.insert_many(data)\n",
    "print(f\"Inserted {len(result.inserted_ids)} documents\")\n",
    "\n",
    "for document in collection.find():\n",
    "    print(document)"
   ]
  },
  {
   "cell_type": "code",
   "execution_count": 5,
   "metadata": {},
   "outputs": [],
   "source": [
    "client.close()"
   ]
  },
  {
   "cell_type": "code",
   "execution_count": 6,
   "metadata": {},
   "outputs": [],
   "source": [
    "packages = {\n",
    "   'org.mongodb.spark:mongo-spark-connector_2.12:10.1.1',\n",
    "}"
   ]
  },
  {
   "cell_type": "code",
   "execution_count": 7,
   "metadata": {},
   "outputs": [
    {
     "name": "stdout",
     "output_type": "stream",
     "text": [
      ":: loading settings :: url = jar:file:/home/hduser/spark/jars/ivy-2.5.1.jar!/org/apache/ivy/core/settings/ivysettings.xml\n"
     ]
    },
    {
     "name": "stderr",
     "output_type": "stream",
     "text": [
      "Ivy Default Cache set to: /home/hduser/.ivy2/cache\n",
      "The jars for the packages stored in: /home/hduser/.ivy2/jars\n",
      "org.mongodb.spark#mongo-spark-connector_2.12 added as a dependency\n",
      ":: resolving dependencies :: org.apache.spark#spark-submit-parent-8eeea6f0-47d4-4de3-bd22-266951ce0c11;1.0\n",
      "\tconfs: [default]\n",
      "\tfound org.mongodb.spark#mongo-spark-connector_2.12;10.1.1 in central\n",
      "\tfound org.mongodb#mongodb-driver-sync;4.8.2 in central\n",
      "\t[4.8.2] org.mongodb#mongodb-driver-sync;[4.8.1,4.8.99)\n",
      "\tfound org.mongodb#bson;4.8.2 in central\n",
      "\tfound org.mongodb#mongodb-driver-core;4.8.2 in central\n",
      "\tfound org.mongodb#bson-record-codec;4.8.2 in central\n",
      ":: resolution report :: resolve 2772ms :: artifacts dl 36ms\n",
      "\t:: modules in use:\n",
      "\torg.mongodb#bson;4.8.2 from central in [default]\n",
      "\torg.mongodb#bson-record-codec;4.8.2 from central in [default]\n",
      "\torg.mongodb#mongodb-driver-core;4.8.2 from central in [default]\n",
      "\torg.mongodb#mongodb-driver-sync;4.8.2 from central in [default]\n",
      "\torg.mongodb.spark#mongo-spark-connector_2.12;10.1.1 from central in [default]\n",
      "\t---------------------------------------------------------------------\n",
      "\t|                  |            modules            ||   artifacts   |\n",
      "\t|       conf       | number| search|dwnlded|evicted|| number|dwnlded|\n",
      "\t---------------------------------------------------------------------\n",
      "\t|      default     |   5   |   1   |   0   |   0   ||   5   |   0   |\n",
      "\t---------------------------------------------------------------------\n",
      ":: retrieving :: org.apache.spark#spark-submit-parent-8eeea6f0-47d4-4de3-bd22-266951ce0c11\n",
      "\tconfs: [default]\n",
      "\t0 artifacts copied, 5 already retrieved (0kB/16ms)\n"
     ]
    },
    {
     "name": "stdout",
     "output_type": "stream",
     "text": [
      "23/04/07 18:21:35 WARN NativeCodeLoader: Unable to load native-hadoop library for your platform... using builtin-java classes where applicable\n"
     ]
    },
    {
     "name": "stderr",
     "output_type": "stream",
     "text": [
      "Setting default log level to \"WARN\".\n",
      "To adjust logging level use sc.setLogLevel(newLevel). For SparkR, use setLogLevel(newLevel).\n"
     ]
    }
   ],
   "source": [
    "spark = (\n",
    "    SparkSession.builder\n",
    "    .config('spark.jars.packages', ','.join(packages))\n",
    "    .config(\"spark.mongodb.input.uri\", \"mongodb://mongo:27017/test.dummy_collection\")\n",
    "    .config(\"spark.mongodb.output.uri\", \"mongodb://mongo:27017/test.dummy_collection\")\n",
    "    .config(\"spark.mongodb.connection.uri\", \"mongodb://mongo:27017\")\n",
    "    .config(\"spark.mongodb.database\", \"test\")\n",
    "    .config(\"spark.mongodb.collection\", \"dummy_collection\")\n",
    "    .getOrCreate()\n",
    ")"
   ]
  },
  {
   "cell_type": "code",
   "execution_count": 8,
   "metadata": {},
   "outputs": [],
   "source": [
    "people = spark.createDataFrame(\n",
    "    [\n",
    "        (\"Bilbo Baggins\", 50),\n",
    "        (\"Gandalf\", 1000),\n",
    "        (\"Thorin\", 195),\n",
    "        (\"Balin\", 178),\n",
    "        (\"Kili\", 77),\n",
    "        (\"Dwalin\", 169),\n",
    "        (\"Oin\", 167),\n",
    "        (\"Gloin\", 158),\n",
    "        (\"Fili\", 82),\n",
    "        (\"Bombur\", None),\n",
    "    ],\n",
    "    [\"name\", \"age\"],\n",
    ")\n"
   ]
  },
  {
   "cell_type": "code",
   "execution_count": 9,
   "metadata": {},
   "outputs": [
    {
     "name": "stderr",
     "output_type": "stream",
     "text": [
      "                                                                                \r"
     ]
    }
   ],
   "source": [
    "people.write.format(\"mongodb\").mode(\"overwrite\").save()"
   ]
  },
  {
   "cell_type": "code",
   "execution_count": 10,
   "metadata": {},
   "outputs": [
    {
     "name": "stdout",
     "output_type": "stream",
     "text": [
      "root\n",
      " |-- _id: string (nullable = true)\n",
      " |-- age: long (nullable = true)\n",
      " |-- name: string (nullable = true)\n",
      "\n",
      "+--------------------+----+-------------+\n",
      "|                 _id| age|         name|\n",
      "+--------------------+----+-------------+\n",
      "|64305f42a842da159...|1000|      Gandalf|\n",
      "|64305f42a842da159...|null|       Bombur|\n",
      "|64305f42a842da159...|  77|         Kili|\n",
      "|64305f42a842da159...| 158|        Gloin|\n",
      "|64305f42a842da159...| 195|       Thorin|\n",
      "|64305f42a842da159...| 178|        Balin|\n",
      "|64305f42a842da159...|  50|Bilbo Baggins|\n",
      "|64305f42a842da159...|  82|         Fili|\n",
      "|64305f42a842da159...| 169|       Dwalin|\n",
      "|64305f42a842da159...| 167|          Oin|\n",
      "+--------------------+----+-------------+\n",
      "\n"
     ]
    },
    {
     "name": "stderr",
     "output_type": "stream",
     "text": [
      "                                                                                \r"
     ]
    }
   ],
   "source": [
    "df = spark.read.format(\"mongodb\").load()\n",
    "df.printSchema()\n",
    "df.show()"
   ]
  }
 ],
 "metadata": {
  "kernelspec": {
   "display_name": "Python 3",
   "language": "python",
   "name": "python3"
  },
  "language_info": {
   "codemirror_mode": {
    "name": "ipython",
    "version": 3
   },
   "file_extension": ".py",
   "mimetype": "text/x-python",
   "name": "python",
   "nbconvert_exporter": "python",
   "pygments_lexer": "ipython3",
   "version": "3.10.6"
  },
  "orig_nbformat": 4
 },
 "nbformat": 4,
 "nbformat_minor": 2
}
